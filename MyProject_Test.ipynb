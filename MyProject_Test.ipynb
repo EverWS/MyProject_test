{
 "cells": [
  {
   "cell_type": "markdown",
   "id": "b2c81feb-3066-4460-8ad4-bab0b7fc628c",
   "metadata": {},
   "source": [
    "# <center>My Jupyter Notebook on IBM Watson Studio</center>"
   ]
  },
  {
   "cell_type": "markdown",
   "id": "29042ba5-58f9-4e77-838f-3ea7b2ab3096",
   "metadata": {},
   "source": [
    "**Everton Wesley da Silva**"
   ]
  },
  {
   "cell_type": "markdown",
   "id": "c701d975-e86d-4dd4-bfa4-b7c83b16a172",
   "metadata": {},
   "source": [
    "Student of the Bachelor's Degree in Science and Technology"
   ]
  },
  {
   "cell_type": "markdown",
   "id": "8c32dd8e-e83f-4ffb-a41b-909a0915b427",
   "metadata": {},
   "source": [
    "*I'm interested in data science because I believe in the potential of insights that data has and its great importance for problem solving.*"
   ]
  },
  {
   "cell_type": "markdown",
   "id": "6653d0f0-29f7-42ea-9b22-740a5336aece",
   "metadata": {},
   "source": [
    "### Looping strings"
   ]
  },
  {
   "cell_type": "code",
   "execution_count": 1,
   "id": "3fec9f3f-4cc3-4d75-8e43-b1e16ba400af",
   "metadata": {},
   "outputs": [
    {
     "name": "stdout",
     "output_type": "stream",
     "text": [
      "p\n",
      "y\n",
      "t\n",
      "h\n",
      "o\n",
      "n\n"
     ]
    }
   ],
   "source": [
    "for letter in \"python\":\n",
    "    print(letter)"
   ]
  },
  {
   "cell_type": "markdown",
   "id": "be66ce75-a4aa-4363-b8dd-017d27d57cf0",
   "metadata": {},
   "source": [
    "<img src=\"https://s3-api.us-geo.objectstorage.softlayer.net/cf-courses-data/CognitiveClass/Logos/organization_logo/organization_logo.png\" width=\"300\" alt=\"cognitiveclass.ai logo\"  />\n",
    "\n",
    "##### Tools for Data Scientists\n",
    "---\n",
    "1. IBM Watson Studio\n",
    "2. IBM Watson Knowledge Catalog\n",
    "3. IBM SPSS Modeler\n",
    "4. AutoIA\n",
    "5. Data Refinary\n",
    "6. OpenScale\n",
    "\n",
    "*and much more in IBM Cloud Pak for Data.\n",
    "\n",
    "[Access my GitHub](https://github.com/EverWS)"
   ]
  }
 ],
 "metadata": {
  "kernelspec": {
   "display_name": "Python",
   "language": "python",
   "name": "conda-env-python-py"
  },
  "language_info": {
   "codemirror_mode": {
    "name": "ipython",
    "version": 3
   },
   "file_extension": ".py",
   "mimetype": "text/x-python",
   "name": "python",
   "nbconvert_exporter": "python",
   "pygments_lexer": "ipython3",
   "version": "3.7.12"
  }
 },
 "nbformat": 4,
 "nbformat_minor": 5
}
